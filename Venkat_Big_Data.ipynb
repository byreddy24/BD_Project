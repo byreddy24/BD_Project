{
  "nbformat": 4,
  "nbformat_minor": 0,
  "metadata": {
    "colab": {
      "provenance": []
    },
    "kernelspec": {
      "name": "python3",
      "display_name": "Python 3"
    },
    "language_info": {
      "name": "python"
    }
  },
  "cells": [
    {
      "cell_type": "code",
      "execution_count": null,
      "metadata": {
        "colab": {
          "base_uri": "https://localhost:8080/"
        },
        "id": "U43BXknPm7-J",
        "outputId": "2b839f83-2759-4252-da52-8dfa97cb514c"
      },
      "outputs": [
        {
          "output_type": "stream",
          "name": "stdout",
          "text": [
            "Collecting cassandra-driver\n",
            "  Downloading cassandra_driver-3.29.2-cp310-cp310-manylinux_2_17_x86_64.manylinux2014_x86_64.whl.metadata (6.2 kB)\n",
            "Collecting geomet<0.3,>=0.1 (from cassandra-driver)\n",
            "  Downloading geomet-0.2.1.post1-py3-none-any.whl.metadata (1.0 kB)\n",
            "Requirement already satisfied: click in /usr/local/lib/python3.10/dist-packages (from geomet<0.3,>=0.1->cassandra-driver) (8.1.7)\n",
            "Requirement already satisfied: six in /usr/local/lib/python3.10/dist-packages (from geomet<0.3,>=0.1->cassandra-driver) (1.17.0)\n",
            "Downloading cassandra_driver-3.29.2-cp310-cp310-manylinux_2_17_x86_64.manylinux2014_x86_64.whl (3.9 MB)\n",
            "\u001b[2K   \u001b[90m━━━━━━━━━━━━━━━━━━━━━━━━━━━━━━━━━━━━━━━━\u001b[0m \u001b[32m3.9/3.9 MB\u001b[0m \u001b[31m24.4 MB/s\u001b[0m eta \u001b[36m0:00:00\u001b[0m\n",
            "\u001b[?25hDownloading geomet-0.2.1.post1-py3-none-any.whl (18 kB)\n",
            "Installing collected packages: geomet, cassandra-driver\n",
            "Successfully installed cassandra-driver-3.29.2 geomet-0.2.1.post1\n"
          ]
        }
      ],
      "source": [
        "pip install cassandra-driver\n"
      ]
    },
    {
      "cell_type": "code",
      "source": [
        "import requests\n",
        "import pandas as pd\n",
        "\n",
        "# Polygon.io API URL for getting stock data (example: AAPL)\n",
        "url = \"https://api.polygon.io/v2/aggs/ticker/AAPL/prev\"\n",
        "\n",
        "# Your API Key\n",
        "api_key = \"ly1vbw8ONU_RUUK7FDWq3FvP6coM_0qh\"\n",
        "\n",
        "# Adding API key to query parameters\n",
        "params = {\n",
        "    'apiKey': api_key  # Include your API key in the parameters\n",
        "}\n",
        "\n",
        "# Make the GET request to fetch data\n",
        "response = requests.get(url, params=params)\n",
        "\n",
        "# Check if the request was successful\n",
        "if response.status_code == 200:\n",
        "    data = response.json()  # Convert response to JSON\n",
        "\n",
        "    # Extract the results and create a DataFrame\n",
        "    results = data.get('results', [])\n",
        "    if results:\n",
        "        df = pd.DataFrame(results)\n",
        "\n",
        "        # Specify the file path\n",
        "        file_path = r\"C:\\Users\\ruthv\\Desktop\\Parking_Violations_Issued_.csv\"\n",
        "\n",
        "        # Save the DataFrame to CSV\n",
        "        df.to_csv(file_path, index=False)  # Save without the index column\n",
        "\n",
        "        print(f\"Data saved successfully to {file_path}\")\n",
        "    else:\n",
        "        print(\"No data found in the response.\")\n",
        "else:\n",
        "    print(f\"Failed to retrieve data: {response.status_code}\")\n"
      ],
      "metadata": {
        "colab": {
          "base_uri": "https://localhost:8080/"
        },
        "id": "d4uJrz_A6PrX",
        "outputId": "0c61c611-80b1-44eb-9b04-725d1ef9db18"
      },
      "execution_count": 12,
      "outputs": [
        {
          "output_type": "stream",
          "name": "stdout",
          "text": [
            "Data saved successfully to C:\\Users\\ruthv\\Desktop\\Parking_Violations_Issued_.csv\n"
          ]
        }
      ]
    },
    {
      "cell_type": "code",
      "source": [],
      "metadata": {
        "id": "7kAWIEDV6ldx"
      },
      "execution_count": 10,
      "outputs": []
    },
    {
      "cell_type": "code",
      "source": [
        "!pip install pyyaml\n"
      ],
      "metadata": {
        "colab": {
          "base_uri": "https://localhost:8080/"
        },
        "id": "Fb4zB1AEo2LF",
        "outputId": "1f2aa6ec-a8ec-4a66-e0e5-0a7204f7ad63"
      },
      "execution_count": null,
      "outputs": [
        {
          "output_type": "stream",
          "name": "stdout",
          "text": [
            "Requirement already satisfied: pyyaml in /usr/local/lib/python3.10/dist-packages (6.0.2)\n"
          ]
        }
      ]
    },
    {
      "cell_type": "code",
      "source": [
        "from google.colab import files\n",
        "uploaded = files.upload()\n"
      ],
      "metadata": {
        "colab": {
          "base_uri": "https://localhost:8080/",
          "height": 73
        },
        "id": "TsPd9SgLo30x",
        "outputId": "abdaef26-858c-4676-842c-1aa91737f6c6"
      },
      "execution_count": null,
      "outputs": [
        {
          "output_type": "display_data",
          "data": {
            "text/plain": [
              "<IPython.core.display.HTML object>"
            ],
            "text/html": [
              "\n",
              "     <input type=\"file\" id=\"files-dcd27c7c-2ae2-4267-9a93-f77f54f4ba10\" name=\"files[]\" multiple disabled\n",
              "        style=\"border:none\" />\n",
              "     <output id=\"result-dcd27c7c-2ae2-4267-9a93-f77f54f4ba10\">\n",
              "      Upload widget is only available when the cell has been executed in the\n",
              "      current browser session. Please rerun this cell to enable.\n",
              "      </output>\n",
              "      <script>// Copyright 2017 Google LLC\n",
              "//\n",
              "// Licensed under the Apache License, Version 2.0 (the \"License\");\n",
              "// you may not use this file except in compliance with the License.\n",
              "// You may obtain a copy of the License at\n",
              "//\n",
              "//      http://www.apache.org/licenses/LICENSE-2.0\n",
              "//\n",
              "// Unless required by applicable law or agreed to in writing, software\n",
              "// distributed under the License is distributed on an \"AS IS\" BASIS,\n",
              "// WITHOUT WARRANTIES OR CONDITIONS OF ANY KIND, either express or implied.\n",
              "// See the License for the specific language governing permissions and\n",
              "// limitations under the License.\n",
              "\n",
              "/**\n",
              " * @fileoverview Helpers for google.colab Python module.\n",
              " */\n",
              "(function(scope) {\n",
              "function span(text, styleAttributes = {}) {\n",
              "  const element = document.createElement('span');\n",
              "  element.textContent = text;\n",
              "  for (const key of Object.keys(styleAttributes)) {\n",
              "    element.style[key] = styleAttributes[key];\n",
              "  }\n",
              "  return element;\n",
              "}\n",
              "\n",
              "// Max number of bytes which will be uploaded at a time.\n",
              "const MAX_PAYLOAD_SIZE = 100 * 1024;\n",
              "\n",
              "function _uploadFiles(inputId, outputId) {\n",
              "  const steps = uploadFilesStep(inputId, outputId);\n",
              "  const outputElement = document.getElementById(outputId);\n",
              "  // Cache steps on the outputElement to make it available for the next call\n",
              "  // to uploadFilesContinue from Python.\n",
              "  outputElement.steps = steps;\n",
              "\n",
              "  return _uploadFilesContinue(outputId);\n",
              "}\n",
              "\n",
              "// This is roughly an async generator (not supported in the browser yet),\n",
              "// where there are multiple asynchronous steps and the Python side is going\n",
              "// to poll for completion of each step.\n",
              "// This uses a Promise to block the python side on completion of each step,\n",
              "// then passes the result of the previous step as the input to the next step.\n",
              "function _uploadFilesContinue(outputId) {\n",
              "  const outputElement = document.getElementById(outputId);\n",
              "  const steps = outputElement.steps;\n",
              "\n",
              "  const next = steps.next(outputElement.lastPromiseValue);\n",
              "  return Promise.resolve(next.value.promise).then((value) => {\n",
              "    // Cache the last promise value to make it available to the next\n",
              "    // step of the generator.\n",
              "    outputElement.lastPromiseValue = value;\n",
              "    return next.value.response;\n",
              "  });\n",
              "}\n",
              "\n",
              "/**\n",
              " * Generator function which is called between each async step of the upload\n",
              " * process.\n",
              " * @param {string} inputId Element ID of the input file picker element.\n",
              " * @param {string} outputId Element ID of the output display.\n",
              " * @return {!Iterable<!Object>} Iterable of next steps.\n",
              " */\n",
              "function* uploadFilesStep(inputId, outputId) {\n",
              "  const inputElement = document.getElementById(inputId);\n",
              "  inputElement.disabled = false;\n",
              "\n",
              "  const outputElement = document.getElementById(outputId);\n",
              "  outputElement.innerHTML = '';\n",
              "\n",
              "  const pickedPromise = new Promise((resolve) => {\n",
              "    inputElement.addEventListener('change', (e) => {\n",
              "      resolve(e.target.files);\n",
              "    });\n",
              "  });\n",
              "\n",
              "  const cancel = document.createElement('button');\n",
              "  inputElement.parentElement.appendChild(cancel);\n",
              "  cancel.textContent = 'Cancel upload';\n",
              "  const cancelPromise = new Promise((resolve) => {\n",
              "    cancel.onclick = () => {\n",
              "      resolve(null);\n",
              "    };\n",
              "  });\n",
              "\n",
              "  // Wait for the user to pick the files.\n",
              "  const files = yield {\n",
              "    promise: Promise.race([pickedPromise, cancelPromise]),\n",
              "    response: {\n",
              "      action: 'starting',\n",
              "    }\n",
              "  };\n",
              "\n",
              "  cancel.remove();\n",
              "\n",
              "  // Disable the input element since further picks are not allowed.\n",
              "  inputElement.disabled = true;\n",
              "\n",
              "  if (!files) {\n",
              "    return {\n",
              "      response: {\n",
              "        action: 'complete',\n",
              "      }\n",
              "    };\n",
              "  }\n",
              "\n",
              "  for (const file of files) {\n",
              "    const li = document.createElement('li');\n",
              "    li.append(span(file.name, {fontWeight: 'bold'}));\n",
              "    li.append(span(\n",
              "        `(${file.type || 'n/a'}) - ${file.size} bytes, ` +\n",
              "        `last modified: ${\n",
              "            file.lastModifiedDate ? file.lastModifiedDate.toLocaleDateString() :\n",
              "                                    'n/a'} - `));\n",
              "    const percent = span('0% done');\n",
              "    li.appendChild(percent);\n",
              "\n",
              "    outputElement.appendChild(li);\n",
              "\n",
              "    const fileDataPromise = new Promise((resolve) => {\n",
              "      const reader = new FileReader();\n",
              "      reader.onload = (e) => {\n",
              "        resolve(e.target.result);\n",
              "      };\n",
              "      reader.readAsArrayBuffer(file);\n",
              "    });\n",
              "    // Wait for the data to be ready.\n",
              "    let fileData = yield {\n",
              "      promise: fileDataPromise,\n",
              "      response: {\n",
              "        action: 'continue',\n",
              "      }\n",
              "    };\n",
              "\n",
              "    // Use a chunked sending to avoid message size limits. See b/62115660.\n",
              "    let position = 0;\n",
              "    do {\n",
              "      const length = Math.min(fileData.byteLength - position, MAX_PAYLOAD_SIZE);\n",
              "      const chunk = new Uint8Array(fileData, position, length);\n",
              "      position += length;\n",
              "\n",
              "      const base64 = btoa(String.fromCharCode.apply(null, chunk));\n",
              "      yield {\n",
              "        response: {\n",
              "          action: 'append',\n",
              "          file: file.name,\n",
              "          data: base64,\n",
              "        },\n",
              "      };\n",
              "\n",
              "      let percentDone = fileData.byteLength === 0 ?\n",
              "          100 :\n",
              "          Math.round((position / fileData.byteLength) * 100);\n",
              "      percent.textContent = `${percentDone}% done`;\n",
              "\n",
              "    } while (position < fileData.byteLength);\n",
              "  }\n",
              "\n",
              "  // All done.\n",
              "  yield {\n",
              "    response: {\n",
              "      action: 'complete',\n",
              "    }\n",
              "  };\n",
              "}\n",
              "\n",
              "scope.google = scope.google || {};\n",
              "scope.google.colab = scope.google.colab || {};\n",
              "scope.google.colab._files = {\n",
              "  _uploadFiles,\n",
              "  _uploadFilesContinue,\n",
              "};\n",
              "})(self);\n",
              "</script> "
            ]
          },
          "metadata": {}
        },
        {
          "output_type": "stream",
          "name": "stdout",
          "text": [
            "Saving credentials.yml to credentials.yml\n"
          ]
        }
      ]
    },
    {
      "cell_type": "code",
      "source": [
        "import yaml\n",
        "\n",
        "# Load credentials from the uploaded file\n",
        "with open('credentials.yml', 'r') as file:\n",
        "    credentials = yaml.safe_load(file)\n",
        "\n",
        "# Extract values securely\n",
        "client_id = credentials['clientId']\n",
        "client_secret = credentials['secret']\n"
      ],
      "metadata": {
        "id": "sb_mf-PppFe1"
      },
      "execution_count": null,
      "outputs": []
    },
    {
      "cell_type": "code",
      "source": [
        "import yaml\n",
        "\n",
        "# Load the YAML file\n",
        "with open('credentials.yml', 'r') as file:\n",
        "    credentials = yaml.safe_load(file)\n",
        "\n",
        "# Extract clientId and clientSecret securely from the dictionary\n",
        "client_id = credentials['clientId']\n",
        "client_secret = credentials['secret']\n",
        "\n",
        "# Print them (for testing purposes, avoid in production)\n",
        "print(\"Client ID and Secret are loaded securely.\")\n"
      ],
      "metadata": {
        "colab": {
          "base_uri": "https://localhost:8080/"
        },
        "id": "kMtVhqJ-qdGk",
        "outputId": "55d3f001-62b3-45c1-ec35-87cb6615c6a6"
      },
      "execution_count": null,
      "outputs": [
        {
          "output_type": "stream",
          "name": "stdout",
          "text": [
            "Client ID and Secret are loaded securely.\n"
          ]
        }
      ]
    },
    {
      "cell_type": "code",
      "source": [
        "from cassandra.cluster import Cluster\n",
        "from cassandra.auth import PlainTextAuthProvider\n",
        "\n",
        "# Path to your secure connect bundle\n",
        "SECURE_CONNECT_BUNDLE = '/content/secure-connect-my-first-app.zip'  # Adjust path if needed\n",
        "KEYSPACE = 'traffic'  # Your keyspace\n",
        "DATABASE = 'my_first_app'  # Your database name\n",
        "\n",
        "# Setup the connection to Astra DB using credentials from the YAML file\n",
        "auth_provider = PlainTextAuthProvider(client_id, client_secret)\n",
        "cluster = Cluster(cloud={'secure_connect_bundle': SECURE_CONNECT_BUNDLE}, auth_provider=auth_provider)\n",
        "session = cluster.connect(KEYSPACE)\n",
        "\n",
        "print(\"Connected to Astra DB successfully!\")\n"
      ],
      "metadata": {
        "colab": {
          "base_uri": "https://localhost:8080/"
        },
        "id": "O5IEp3PIr4ne",
        "outputId": "c12da2a9-4e97-424a-d104-30d22d47b8bd"
      },
      "execution_count": null,
      "outputs": [
        {
          "output_type": "stream",
          "name": "stderr",
          "text": [
            "WARNING:cassandra.cluster:Downgrading core protocol version from 66 to 65 for 27c05cac-4840-4f43-b190-e28fd3f3e1ff-eu-west-1.db.astra.datastax.com:29042:678e6a1d-e5b1-3cba-b949-7bfaf823957f. To avoid this, it is best practice to explicitly set Cluster(protocol_version) to the version supported by your cluster. http://datastax.github.io/python-driver/api/cassandra/cluster.html#cassandra.cluster.Cluster.protocol_version\n",
            "WARNING:cassandra.cluster:Downgrading core protocol version from 65 to 5 for 27c05cac-4840-4f43-b190-e28fd3f3e1ff-eu-west-1.db.astra.datastax.com:29042:678e6a1d-e5b1-3cba-b949-7bfaf823957f. To avoid this, it is best practice to explicitly set Cluster(protocol_version) to the version supported by your cluster. http://datastax.github.io/python-driver/api/cassandra/cluster.html#cassandra.cluster.Cluster.protocol_version\n",
            "WARNING:cassandra.cluster:Downgrading core protocol version from 5 to 4 for 27c05cac-4840-4f43-b190-e28fd3f3e1ff-eu-west-1.db.astra.datastax.com:29042:678e6a1d-e5b1-3cba-b949-7bfaf823957f. To avoid this, it is best practice to explicitly set Cluster(protocol_version) to the version supported by your cluster. http://datastax.github.io/python-driver/api/cassandra/cluster.html#cassandra.cluster.Cluster.protocol_version\n"
          ]
        },
        {
          "output_type": "stream",
          "name": "stdout",
          "text": [
            "Connected to Astra DB successfully!\n"
          ]
        }
      ]
    },
    {
      "cell_type": "code",
      "source": [
        "import pandas as pd\n",
        "import logging\n",
        "from cassandra.cluster import Cluster\n",
        "from cassandra.auth import PlainTextAuthProvider\n",
        "from cassandra.concurrent import execute_concurrent_with_args\n",
        "from typing import List, Tuple\n",
        "import yaml\n",
        "from functools import wraps\n",
        "\n",
        "# 1. Logging Setup\n",
        "logging.basicConfig(level=logging.INFO, format='%(asctime)s - %(levelname)s - %(message)s')\n",
        "logger = logging.getLogger(__name__)\n",
        "\n",
        "# 2. Decorator for Error Handling\n",
        "def error_handler(func):\n",
        "    \"\"\"Decorator to handle errors gracefully\"\"\"\n",
        "    @wraps(func)\n",
        "    def wrapper(*args, **kwargs):\n",
        "        try:\n",
        "            return func(*args, **kwargs)\n",
        "        except Exception as e:\n",
        "            logger.error(f\"Error in {func.__name__}: {e}\")\n",
        "            return None\n",
        "    return wrapper\n",
        "\n",
        "# 3. DataFrame Transformation - Functional Approach\n",
        "@error_handler\n",
        "def transform_data(df: pd.DataFrame) -> List[Tuple]:\n",
        "    \"\"\"Transform the CSV data into tuples for bulk insert\"\"\"\n",
        "    required_columns = ['Summons Number', 'Plate ID', 'Registration State', 'Plate Type',\n",
        "                        'Issue Date', 'Violation Code', 'Vehicle Body Type', 'Vehicle Make', 'Issuing Agency']\n",
        "    df_cleaned = df[required_columns].fillna('N/A')\n",
        "\n",
        "    def safe_int(value: str) -> int:\n",
        "        \"\"\"Convert value to integer or return 0 if not possible\"\"\"\n",
        "        try:\n",
        "            return int(float(value))  # Handle float/int values from CSV\n",
        "        except (ValueError, TypeError):\n",
        "            return 0\n",
        "\n",
        "    df_cleaned['Violation Code'] = df_cleaned['Violation Code'].apply(safe_int)\n",
        "    logger.info(\"Data cleaned and 'violation_code' converted to integers.\")\n",
        "    return [\n",
        "        (\n",
        "            str(row['Summons Number']),\n",
        "            str(row['Plate ID']),\n",
        "            str(row['Registration State']),\n",
        "            str(row['Plate Type']),\n",
        "            str(row['Issue Date']),\n",
        "            row['Violation Code'],  # Keep as integer\n",
        "            str(row['Vehicle Body Type']),\n",
        "            str(row['Vehicle Make']),\n",
        "            str(row['Issuing Agency']),\n",
        "        )\n",
        "        for _, row in df_cleaned.iterrows()\n",
        "    ]\n",
        "\n",
        "# 4. Database Connection Class\n",
        "class AstraDBConnection:\n",
        "    \"\"\"Class to manage the connection to Astra DB and insert data\"\"\"\n",
        "    def __init__(self, bundle_path: str, client_id: str, client_secret: str, keyspace: str):\n",
        "        self.bundle_path = bundle_path\n",
        "        self.client_id = client_id\n",
        "        self.client_secret = client_secret\n",
        "        self.keyspace = keyspace\n",
        "        self.session = None\n",
        "\n",
        "    @error_handler\n",
        "    def connect(self) -> None:\n",
        "        \"\"\"Connect to Astra DB\"\"\"\n",
        "        auth_provider = PlainTextAuthProvider(self.client_id, self.client_secret)\n",
        "        cluster = Cluster(cloud={'secure_connect_bundle': self.bundle_path}, auth_provider=auth_provider)\n",
        "        self.session = cluster.connect(self.keyspace)\n",
        "        logger.info(\"Connected to Astra DB successfully!\")\n",
        "\n",
        "    @error_handler\n",
        "    def create_table(self) -> None:\n",
        "        \"\"\"Create the table if it doesn't exist\"\"\"\n",
        "        create_table_query = \"\"\"\n",
        "        CREATE TABLE IF NOT EXISTS parking_violations (\n",
        "            summons_number TEXT PRIMARY KEY,\n",
        "            plate_id TEXT,\n",
        "            registration_state TEXT,\n",
        "            plate_type TEXT,\n",
        "            issue_date TEXT,\n",
        "            violation_code INT,\n",
        "            vehicle_body_type TEXT,\n",
        "            vehicle_make TEXT,\n",
        "            issuing_agency TEXT\n",
        "        );\n",
        "        \"\"\"\n",
        "        self.session.execute(create_table_query)\n",
        "        logger.info(\"Table 'parking_violations' created successfully.\")\n",
        "\n",
        "    @error_handler\n",
        "    def bulk_insert_data(self, data: List[Tuple]) -> None:\n",
        "        \"\"\"Insert data in bulk into the table\"\"\"\n",
        "        insert_query = \"\"\"\n",
        "        INSERT INTO parking_violations (\n",
        "            summons_number, plate_id, registration_state, plate_type, issue_date,\n",
        "            violation_code, vehicle_body_type, vehicle_make, issuing_agency\n",
        "        ) VALUES (?, ?, ?, ?, ?, ?, ?, ?, ?);\n",
        "        \"\"\"\n",
        "        prepared = self.session.prepare(insert_query)\n",
        "        execute_concurrent_with_args(self.session, prepared, data, concurrency=50)\n",
        "        logger.info(\"Bulk data inserted successfully into Astra DB.\")\n",
        "\n",
        "    @error_handler\n",
        "    def count_rows(self) -> int:\n",
        "        \"\"\"Count the number of rows in the table\"\"\"\n",
        "        count_query = \"SELECT COUNT(*) FROM parking_violations;\"\n",
        "        result = self.session.execute(count_query)\n",
        "        for row in result:\n",
        "            return row[0]\n",
        "        return 0\n",
        "\n",
        "# 5. Function to load CSV data securely\n",
        "@error_handler\n",
        "def load_csv(file_path: str) -> pd.DataFrame:\n",
        "    \"\"\"Load the CSV file into a DataFrame\"\"\"\n",
        "    df = pd.read_csv(file_path)\n",
        "    logger.info(f\"Loaded CSV file: {file_path} with {len(df)} rows and {len(df.columns)} columns.\")\n",
        "    return df\n",
        "\n",
        "# 6. Main Function\n",
        "@error_handler\n",
        "def main():\n",
        "    \"\"\"Main function to load data, insert into DB, and count rows\"\"\"\n",
        "    # Load credentials from YAML file\n",
        "    with open('credentials.yml', 'r') as file:\n",
        "        credentials = yaml.safe_load(file)\n",
        "\n",
        "    client_id = credentials['clientId']\n",
        "    client_secret = credentials['secret']\n",
        "    secure_connect_bundle = '/content/secure-connect-my-first-app.zip'  # Adjust path\n",
        "    keyspace = 'traffic'\n",
        "    csv_file_path = '/content/Parking_Violations_Issued.csv'\n",
        "\n",
        "    # Load CSV data\n",
        "    df = load_csv(csv_file_path)\n",
        "    if df is None:\n",
        "        return\n",
        "\n",
        "    # Transform Data\n",
        "    data = transform_data(df)\n",
        "    if not data:\n",
        "        return\n",
        "\n",
        "    # Connect to Astra DB and insert data\n",
        "    db = AstraDBConnection(secure_connect_bundle, client_id, client_secret, keyspace)\n",
        "    db.connect()\n",
        "    db.create_table()\n",
        "    db.bulk_insert_data(data)\n",
        "\n",
        "    # Display the number of rows\n",
        "    row_count = db.count_rows()\n",
        "    logger.info(f\"Total rows in table: {row_count}\")\n",
        "    print(f\"Total rows in table: {row_count}\")\n",
        "\n",
        "# Run the main function\n",
        "if __name__ == \"__main__\":\n",
        "    main()\n"
      ],
      "metadata": {
        "colab": {
          "base_uri": "https://localhost:8080/"
        },
        "id": "dFyVnkJrsBJL",
        "outputId": "568c9044-fb2c-475e-95a7-f16f952cbb18"
      },
      "execution_count": null,
      "outputs": [
        {
          "output_type": "stream",
          "name": "stderr",
          "text": [
            "WARNING:cassandra.cluster:Downgrading core protocol version from 66 to 65 for 27c05cac-4840-4f43-b190-e28fd3f3e1ff-eu-west-1.db.astra.datastax.com:29042:98a2cd7e-fa1b-3950-942e-42af495c4248. To avoid this, it is best practice to explicitly set Cluster(protocol_version) to the version supported by your cluster. http://datastax.github.io/python-driver/api/cassandra/cluster.html#cassandra.cluster.Cluster.protocol_version\n",
            "WARNING:cassandra.cluster:Downgrading core protocol version from 65 to 5 for 27c05cac-4840-4f43-b190-e28fd3f3e1ff-eu-west-1.db.astra.datastax.com:29042:98a2cd7e-fa1b-3950-942e-42af495c4248. To avoid this, it is best practice to explicitly set Cluster(protocol_version) to the version supported by your cluster. http://datastax.github.io/python-driver/api/cassandra/cluster.html#cassandra.cluster.Cluster.protocol_version\n",
            "WARNING:cassandra.cluster:Downgrading core protocol version from 5 to 4 for 27c05cac-4840-4f43-b190-e28fd3f3e1ff-eu-west-1.db.astra.datastax.com:29042:98a2cd7e-fa1b-3950-942e-42af495c4248. To avoid this, it is best practice to explicitly set Cluster(protocol_version) to the version supported by your cluster. http://datastax.github.io/python-driver/api/cassandra/cluster.html#cassandra.cluster.Cluster.protocol_version\n",
            "WARNING:cassandra.protocol:Server warning: Aggregation query used without partition key\n"
          ]
        },
        {
          "output_type": "stream",
          "name": "stdout",
          "text": [
            "Total rows in table: 99999\n"
          ]
        }
      ]
    },
    {
      "cell_type": "code",
      "source": [
        "import pandas as pd\n",
        "import logging\n",
        "from cassandra.cluster import Cluster\n",
        "from cassandra.concurrent import execute_concurrent_with_args\n",
        "from cassandra.auth import PlainTextAuthProvider\n",
        "import yaml\n",
        "from functools import wraps\n",
        "from typing import List, Tuple\n",
        "\n",
        "# 1. Logging Setup\n",
        "logging.basicConfig(level=logging.INFO, format='%(asctime)s - %(levelname)s - %(message)s')\n",
        "logger = logging.getLogger(__name__)\n",
        "\n",
        "# 2. Decorator for Error Handling\n",
        "def error_handler(func):\n",
        "    \"\"\"Decorator to handle errors gracefully\"\"\"\n",
        "    @wraps(func)\n",
        "    def wrapper(*args, **kwargs):\n",
        "        try:\n",
        "            return func(*args, **kwargs)\n",
        "        except Exception as e:\n",
        "            logger.error(f\"Error in {func.__name__}: {e}\")\n",
        "            return None\n",
        "    return wrapper\n",
        "\n",
        "# 3. Load and Clean Data (Silver Layer)\n",
        "@error_handler\n",
        "def load_and_clean_data(file_path: str) -> pd.DataFrame:\n",
        "    \"\"\"Load CSV and clean the data (remove duplicates, handle missing values)\"\"\"\n",
        "    # Load the CSV file into a DataFrame\n",
        "    df = pd.read_csv(file_path)\n",
        "    logger.info(f\"Loaded CSV file: {file_path} with {len(df)} rows and {len(df.columns)} columns.\")\n",
        "\n",
        "    # Remove duplicates\n",
        "    df_cleaned = df.drop_duplicates()\n",
        "    logger.info(f\"Removed {len(df) - len(df_cleaned)} duplicate rows.\")\n",
        "\n",
        "    # Fill missing values with 'N/A' for strings and 0 for numerical columns\n",
        "    df_cleaned = df_cleaned.fillna({\n",
        "        'Summons Number': 'N/A',\n",
        "        'Plate ID': 'N/A',\n",
        "        'Registration State': 'N/A',\n",
        "        'Plate Type': 'N/A',\n",
        "        'Issue Date': 'N/A',\n",
        "        'Violation Code': 0,\n",
        "        'Vehicle Body Type': 'N/A',\n",
        "        'Vehicle Make': 'N/A',\n",
        "        'Issuing Agency': 'N/A'\n",
        "    })\n",
        "\n",
        "    # Ensure the 'Violation Code' column is of integer type\n",
        "    df_cleaned['Violation Code'] = df_cleaned['Violation Code'].apply(lambda x: int(x) if str(x).isdigit() else 0)\n",
        "\n",
        "    logger.info(\"Data cleaned successfully.\")\n",
        "    return df_cleaned\n",
        "\n",
        "# 4. Function to insert data into Astra DB\n",
        "@error_handler\n",
        "def insert_data_to_db(session, data: List[Tuple]) -> None:\n",
        "    \"\"\"Insert cleaned data into the parking_violations table in Astra DB\"\"\"\n",
        "    # Prepare the insert query\n",
        "    insert_query = \"\"\"\n",
        "    INSERT INTO parking_violations (\n",
        "        summons_number, plate_id, registration_state, plate_type, issue_date, violation_code,\n",
        "        vehicle_body_type, vehicle_make, issuing_agency\n",
        "    ) VALUES (?, ?, ?, ?, ?, ?, ?, ?, ?);\n",
        "    \"\"\"\n",
        "    prepared = session.prepare(insert_query)\n",
        "    execute_concurrent_with_args(session, prepared, data, concurrency=50)\n",
        "    logger.info(\"Data inserted successfully into Astra DB.\")\n",
        "\n",
        "# 5. Main function to load, clean and insert data\n",
        "@error_handler\n",
        "def main():\n",
        "    # Load credentials from YAML file (assumed to be uploaded)\n",
        "    with open('/content/credentials.yml', 'r') as file:\n",
        "        credentials = yaml.safe_load(file)\n",
        "\n",
        "    client_id = credentials['clientId']\n",
        "    client_secret = credentials['secret']\n",
        "    secure_connect_bundle = '/content/secure-connect-my-first-app.zip'  # Adjust path if necessary\n",
        "    keyspace = 'traffic'\n",
        "    csv_file_path = '/content/Parking_Violations_Issued.csv'  # Path to your uploaded file\n",
        "\n",
        "    # Connect to Astra DB\n",
        "    auth_provider = PlainTextAuthProvider(client_id, client_secret)\n",
        "    cluster = Cluster(cloud={'secure_connect_bundle': secure_connect_bundle}, auth_provider=auth_provider)\n",
        "    session = cluster.connect(keyspace)\n",
        "    logger.info(\"Connected to Astra DB successfully!\")\n",
        "\n",
        "    # Load and clean the data\n",
        "    df_cleaned = load_and_clean_data(csv_file_path)\n",
        "    if df_cleaned is None:\n",
        "        logger.error(\"Data cleaning failed.\")\n",
        "        return\n",
        "\n",
        "    # Prepare the data for insertion\n",
        "    data_to_insert = [\n",
        "        (\n",
        "            str(row['Summons Number']),\n",
        "            str(row['Plate ID']),\n",
        "            str(row['Registration State']),\n",
        "            str(row['Plate Type']),\n",
        "            str(row['Issue Date']),\n",
        "            row['Violation Code'],  # Keep as integer\n",
        "            str(row['Vehicle Body Type']),\n",
        "            str(row['Vehicle Make']),\n",
        "            str(row['Issuing Agency'])\n",
        "        )\n",
        "        for _, row in df_cleaned.iterrows()\n",
        "    ]\n",
        "\n",
        "    # Insert cleaned data into Astra DB\n",
        "    insert_data_to_db(session, data_to_insert)\n",
        "\n",
        "    # Verify the number of rows in the table\n",
        "    count_query = \"SELECT COUNT(*) FROM parking_violations;\"\n",
        "    rows = session.execute(count_query)\n",
        "    for row in rows:\n",
        "        logger.info(f\"Total rows in table: {row[0]}\")\n",
        "        print(f\"Total rows in table: {row[0]}\")\n",
        "\n",
        "# Run the main function\n",
        "if __name__ == \"__main__\":\n",
        "    main()\n"
      ],
      "metadata": {
        "colab": {
          "base_uri": "https://localhost:8080/"
        },
        "id": "MaMYhMCDsECL",
        "outputId": "2f5ca9f3-5c64-463b-f4a5-6a1d24ea0f99"
      },
      "execution_count": null,
      "outputs": [
        {
          "output_type": "stream",
          "name": "stderr",
          "text": [
            "WARNING:cassandra.cluster:Downgrading core protocol version from 66 to 65 for 27c05cac-4840-4f43-b190-e28fd3f3e1ff-eu-west-1.db.astra.datastax.com:29042:678e6a1d-e5b1-3cba-b949-7bfaf823957f. To avoid this, it is best practice to explicitly set Cluster(protocol_version) to the version supported by your cluster. http://datastax.github.io/python-driver/api/cassandra/cluster.html#cassandra.cluster.Cluster.protocol_version\n",
            "WARNING:cassandra.cluster:Downgrading core protocol version from 65 to 5 for 27c05cac-4840-4f43-b190-e28fd3f3e1ff-eu-west-1.db.astra.datastax.com:29042:678e6a1d-e5b1-3cba-b949-7bfaf823957f. To avoid this, it is best practice to explicitly set Cluster(protocol_version) to the version supported by your cluster. http://datastax.github.io/python-driver/api/cassandra/cluster.html#cassandra.cluster.Cluster.protocol_version\n",
            "WARNING:cassandra.cluster:Downgrading core protocol version from 5 to 4 for 27c05cac-4840-4f43-b190-e28fd3f3e1ff-eu-west-1.db.astra.datastax.com:29042:678e6a1d-e5b1-3cba-b949-7bfaf823957f. To avoid this, it is best practice to explicitly set Cluster(protocol_version) to the version supported by your cluster. http://datastax.github.io/python-driver/api/cassandra/cluster.html#cassandra.cluster.Cluster.protocol_version\n",
            "WARNING:cassandra.protocol:Server warning: Aggregation query used without partition key\n"
          ]
        },
        {
          "output_type": "stream",
          "name": "stdout",
          "text": [
            "Total rows in table: 99999\n"
          ]
        }
      ]
    },
    {
      "cell_type": "code",
      "source": [],
      "metadata": {
        "id": "Q7WZgG_J9lJn"
      },
      "execution_count": null,
      "outputs": []
    },
    {
      "cell_type": "code",
      "source": [
        "import pandas as pd\n",
        "\n",
        "# Example:  df_cleaned is already cleaned data\n",
        "df_cleaned = pd.read_csv('/content/Parking_Violations_Issued.csv')\n",
        "\n",
        "# Clean the data (example of basic cleaning)\n",
        "df_cleaned = df_cleaned.drop_duplicates()  # Remove duplicates\n",
        "df_cleaned = df_cleaned.fillna('N/A')  # Fill missing values\n",
        "\n",
        "# Display the cleaned data (first 10 rows)\n",
        "print(\"Displaying the cleaned data (first 10 rows):\")\n",
        "print(df_cleaned.head(10))\n"
      ],
      "metadata": {
        "colab": {
          "base_uri": "https://localhost:8080/"
        },
        "id": "Y19aRjEg00mV",
        "outputId": "5eebbbf6-e122-4288-8572-cdc26ebdbdb1"
      },
      "execution_count": null,
      "outputs": [
        {
          "output_type": "stream",
          "name": "stdout",
          "text": [
            "Displaying the cleaned data (first 10 rows):\n",
            "   Summons Number Plate ID Registration State Plate Type  Issue Date  \\\n",
            "0      1361929741  FCJ5493                 NY        PAS  12/18/1970   \n",
            "1      1366962000  63540MC                 NY        COM    2/2/1971   \n",
            "2      1342296187  GCY4187                 NY        SRF   9/18/1971   \n",
            "3      1342296199  95V6675                 TX        PAS   9/18/1971   \n",
            "4      1342296217  FYM5117                 NY        SRF   9/18/1971   \n",
            "5      1356906515  GFM1421                 NY        PAS   9/18/1971   \n",
            "6      1337077380  18972BB                 NY        999  10/10/1971   \n",
            "7      1364523796  WNJ4730                 VA        PAS    4/5/1973   \n",
            "8      1359914924  68091JZ                 NY        COM   7/22/1973   \n",
            "9      1355498326  EWV4127                 NY        PAS   8/12/1973   \n",
            "\n",
            "   Violation Code Vehicle Body Type Vehicle Make Issuing Agency  \n",
            "0              20              SUBN          GMC              S  \n",
            "1              46              DELV        FRUEH              P  \n",
            "2              21               VAN         FORD              S  \n",
            "3              21               N/A          GMC              S  \n",
            "4              21              SUBN        NISSA              S  \n",
            "5              40               SDN        MAZDA              X  \n",
            "6              14               BUS        INTER              P  \n",
            "7              14               SDN        TOYOT              P  \n",
            "8              46              DELV        TOYOT              P  \n",
            "9              21              SUBN        ACURA              X  \n"
          ]
        }
      ]
    },
    {
      "cell_type": "code",
      "source": [
        "@error_handler\n",
        "def aggregate_data(df: pd.DataFrame):\n",
        "    \"\"\"Aggregate the data by Registration State, Vehicle Make, and Violation Code.\"\"\"\n",
        "    # Aggregation by Registration State\n",
        "    agg_by_state = df.groupby('Registration State').size().reset_index(name='Count')\n",
        "\n",
        "    # Aggregation by Vehicle Make\n",
        "    agg_by_make = df.groupby('Vehicle Make').size().reset_index(name='Count')\n",
        "\n",
        "    # Aggregation by Violation Code\n",
        "    agg_by_violation = df.groupby('Violation Code').size().reset_index(name='Count')\n",
        "\n",
        "    return agg_by_state, agg_by_make, agg_by_violation\n"
      ],
      "metadata": {
        "id": "aMHKUz_E9mvm"
      },
      "execution_count": null,
      "outputs": []
    },
    {
      "cell_type": "code",
      "source": [
        "from cassandra.concurrent import execute_concurrent_with_args\n",
        "\n",
        "def insert_aggregated_data(table_name: str, data: pd.DataFrame):\n",
        "    if table_name == 'aggregated_by_registration_state':\n",
        "        insert_query = \"\"\"\n",
        "        INSERT INTO aggregated_by_registration_state (registration_state, count)\n",
        "        VALUES (?, ?);\n",
        "        \"\"\"\n",
        "    elif table_name == 'aggregated_by_vehicle_make':\n",
        "        insert_query = \"\"\"\n",
        "        INSERT INTO aggregated_by_vehicle_make (vehicle_make, count)\n",
        "        VALUES (?, ?);\n",
        "        \"\"\"\n",
        "    elif table_name == 'aggregated_by_violation_code':\n",
        "        insert_query = \"\"\"\n",
        "        INSERT INTO aggregated_by_violation_code (violation_code, count)\n",
        "        VALUES (?, ?);\n",
        "        \"\"\"\n",
        "    else:\n",
        "        logger.error(f\"Unknown table name: {table_name}\")\n",
        "        return\n",
        "\n",
        "    prepared = session.prepare(insert_query)\n",
        "    execute_concurrent_with_args(session, prepared, data.values.tolist(), concurrency=50)\n",
        "    print(f\"Aggregated data inserted into {table_name}.\")\n"
      ],
      "metadata": {
        "id": "KekyXwgu_2Ug"
      },
      "execution_count": null,
      "outputs": []
    },
    {
      "cell_type": "code",
      "source": [],
      "metadata": {
        "id": "PxYlBM2HK3TB"
      },
      "execution_count": null,
      "outputs": []
    },
    {
      "cell_type": "code",
      "source": [
        "\n"
      ],
      "metadata": {
        "id": "e6tOyCZBBjT5"
      },
      "execution_count": null,
      "outputs": []
    },
    {
      "cell_type": "code",
      "source": [
        "# Before inserting, print the aggregated data\n",
        "print(\"Aggregated by Registration State:\")\n",
        "print(agg_by_state.head())\n",
        "\n",
        "print(\"Aggregated by Vehicle Make:\")\n",
        "print(agg_by_make.head())\n",
        "\n",
        "print(\"Aggregated by Violation Code:\")\n",
        "print(agg_by_violation.head())\n"
      ],
      "metadata": {
        "colab": {
          "base_uri": "https://localhost:8080/"
        },
        "id": "ge1T090oHUpQ",
        "outputId": "a3e709f7-7519-4495-e6e0-ede8238546c7"
      },
      "execution_count": null,
      "outputs": [
        {
          "output_type": "stream",
          "name": "stdout",
          "text": [
            "Aggregated by Registration State:\n",
            "  Registration State  Count\n",
            "0                 99   1992\n",
            "1                 AB      1\n",
            "2                 AK      9\n",
            "3                 AL     92\n",
            "4                 AR     19\n",
            "Aggregated by Vehicle Make:\n",
            "  Vehicle Make  Count\n",
            "0        31SRI      1\n",
            "1        41120      1\n",
            "2           4R      1\n",
            "3           AC      1\n",
            "4        ACURA   1555\n",
            "Aggregated by Violation Code:\n",
            "   Violation Code  Count\n",
            "0               1      2\n",
            "1               3      1\n",
            "2               4      6\n",
            "3               5   3462\n",
            "4               6     10\n"
          ]
        }
      ]
    },
    {
      "cell_type": "code",
      "source": [
        "# Example: Data format before insertion\n",
        "print(\"Data to be inserted into 'aggregated_by_registration_state':\")\n",
        "print(agg_by_state.values.tolist())\n"
      ],
      "metadata": {
        "colab": {
          "base_uri": "https://localhost:8080/"
        },
        "id": "whT69glcJWzF",
        "outputId": "bd9ca457-79f3-4e40-a65b-58a5f5859ac4"
      },
      "execution_count": null,
      "outputs": [
        {
          "output_type": "stream",
          "name": "stdout",
          "text": [
            "Data to be inserted into 'aggregated_by_registration_state':\n",
            "[['99', 1992], ['AB', 1], ['AK', 9], ['AL', 92], ['AR', 19], ['AZ', 350], ['BC', 2], ['CA', 213], ['CO', 40], ['CT', 1450], ['DC', 29], ['DE', 186], ['DP', 17], ['FL', 1347], ['GA', 433], ['GV', 68], ['HI', 2], ['IA', 62], ['ID', 27], ['IL', 430], ['IN', 376], ['KS', 16], ['KY', 32], ['LA', 28], ['MA', 919], ['MD', 561], ['ME', 509], ['MI', 188], ['MN', 121], ['MO', 39], ['MS', 39], ['MT', 7], ['MX', 1], ['NC', 565], ['ND', 3], ['NE', 16], ['NH', 122], ['NJ', 9388], ['NM', 18], ['NS', 5], ['NV', 23], ['NY', 74632], ['OH', 237], ['OK', 249], ['ON', 47], ['OR', 58], ['PA', 2892], ['QB', 41], ['RI', 181], ['SC', 294], ['SD', 4], ['SK', 1], ['TN', 274], ['TX', 291], ['UT', 16], ['VA', 821], ['VT', 58], ['WA', 44], ['WI', 91], ['WV', 21], ['WY', 2]]\n"
          ]
        }
      ]
    },
    {
      "cell_type": "code",
      "source": [
        "# Ensure correct insert query\n",
        "insert_query = \"\"\"\n",
        "INSERT INTO aggregated_by_registration_state (registration_state, count)\n",
        "VALUES (?, ?);\n",
        "\"\"\"\n"
      ],
      "metadata": {
        "id": "p4O62Mm9Jd7m"
      },
      "execution_count": null,
      "outputs": []
    },
    {
      "cell_type": "code",
      "source": [
        "# Insert Aggregated Data into Astra DB\n",
        "insert_aggregated_data('aggregated_by_registration_state', agg_by_state)\n",
        "insert_aggregated_data('aggregated_by_vehicle_make', agg_by_make)\n",
        "insert_aggregated_data('aggregated_by_violation_code', agg_by_violation)\n"
      ],
      "metadata": {
        "colab": {
          "base_uri": "https://localhost:8080/"
        },
        "id": "9pwQFK53JhBe",
        "outputId": "ca29ee20-74dd-4b74-8d62-fb28accf3551"
      },
      "execution_count": null,
      "outputs": [
        {
          "output_type": "stream",
          "name": "stdout",
          "text": [
            "Aggregated data inserted into aggregated_by_registration_state.\n",
            "Aggregated data inserted into aggregated_by_vehicle_make.\n",
            "Aggregated data inserted into aggregated_by_violation_code.\n"
          ]
        }
      ]
    },
    {
      "cell_type": "code",
      "source": [
        "import matplotlib.pyplot as plt\n",
        "import pandas as pd\n",
        "\n",
        "# Example aggregated data (assuming these are already available)\n",
        "agg_by_state = pd.DataFrame({\n",
        "    'registration_state': ['NY', 'CA', 'TX', 'FL'],\n",
        "    'count': [100, 200, 150, 120]\n",
        "})\n",
        "\n",
        "agg_by_make = pd.DataFrame({\n",
        "    'vehicle_make': ['Toyota', 'Honda', 'Ford', 'BMW'],\n",
        "    'count': [300, 250, 200, 150]\n",
        "})\n",
        "\n",
        "agg_by_violation = pd.DataFrame({\n",
        "    'violation_code': [101, 102, 103, 104],\n",
        "    'count': [400, 350, 300, 250]\n",
        "})\n",
        "\n",
        "# 1. Bar Chart for Aggregated Data by Registration State\n",
        "def plot_registration_state(agg_by_state):\n",
        "    plt.figure(figsize=(10, 6))\n",
        "    plt.bar(agg_by_state['registration_state'], agg_by_state['count'], color='skyblue')\n",
        "    plt.xlabel('Registration State')\n",
        "    plt.ylabel('Count of Violations')\n",
        "    plt.title('Violations by Registration State')\n",
        "    plt.xticks(rotation=45)\n",
        "    plt.tight_layout()\n",
        "    plt.show()\n",
        "\n",
        "# 2. Bar Chart for Aggregated Data by Vehicle Make\n",
        "def plot_vehicle_make(agg_by_make):\n",
        "    plt.figure(figsize=(10, 6))\n",
        "    plt.bar(agg_by_make['vehicle_make'], agg_by_make['count'], color='lightgreen')\n",
        "    plt.xlabel('Vehicle Make')\n",
        "    plt.ylabel('Count of Violations')\n",
        "    plt.title('Violations by Vehicle Make')\n",
        "    plt.xticks(rotation=45)\n",
        "    plt.tight_layout()\n",
        "    plt.show()\n",
        "\n",
        "# 3. Pie Chart for Aggregated Data by Violation Code\n",
        "def plot_violation_code(agg_by_violation):\n",
        "    plt.figure(figsize=(8, 8))\n",
        "    plt.pie(agg_by_violation['count'], labels=agg_by_violation['violation_code'], autopct='%1.1f%%', startangle=140, colors=['#ff9999','#66b3ff','#99ff99','#ffcc99'])\n",
        "    plt.title('Violation Code Distribution')\n",
        "    plt.tight_layout()\n",
        "    plt.show()\n",
        "\n",
        "# Calling the functions to generate the plots\n",
        "plot_registration_state(agg_by_state)\n",
        "plot_vehicle_make(agg_by_make)\n",
        "plot_violation_code(agg_by_violation)\n"
      ],
      "metadata": {
        "colab": {
          "base_uri": "https://localhost:8080/",
          "height": 1000
        },
        "id": "C2Ak01alKFZj",
        "outputId": "0d4639d7-81c2-4b16-c64b-41cc88d999bd"
      },
      "execution_count": null,
      "outputs": [
        {
          "output_type": "display_data",
          "data": {
            "text/plain": [
              "<Figure size 1000x600 with 1 Axes>"
            ],
            "image/png": "[encoded data removed]"
          },
          "metadata": {}
        },
        {
          "output_type": "display_data",
          "data": {
            "text/plain": [
              "<Figure size 1000x600 with 1 Axes>"
            ],
            "image/png": "[encoded data removed]"
          },
          "metadata": {}
        },
        {
          "output_type": "display_data",
          "data": {
            "text/plain": [
              "<Figure size 800x800 with 1 Axes>"
            ],
            "image/png": "[encoded data removed]"
          },
          "metadata": {}
        }
      ]
    },
    {
      "cell_type": "code",
      "source": [
        "# Testing the Aggregation Function\n",
        "!pip install pytest\n"
      ],
      "metadata": {
        "colab": {
          "base_uri": "https://localhost:8080/"
        },
        "id": "8-6Paz4HK48M",
        "outputId": "383fd8f1-6c74-4a72-a341-4072815e641f"
      },
      "execution_count": null,
      "outputs": [
        {
          "output_type": "stream",
          "name": "stdout",
          "text": [
            "Requirement already satisfied: pytest in /usr/local/lib/python3.10/dist-packages (8.3.4)\n",
            "Requirement already satisfied: exceptiongroup>=1.0.0rc8 in /usr/local/lib/python3.10/dist-packages (from pytest) (1.2.2)\n",
            "Requirement already satisfied: iniconfig in /usr/local/lib/python3.10/dist-packages (from pytest) (2.0.0)\n",
            "Requirement already satisfied: packaging in /usr/local/lib/python3.10/dist-packages (from pytest) (24.2)\n",
            "Requirement already satisfied: pluggy<2,>=1.5 in /usr/local/lib/python3.10/dist-packages (from pytest) (1.5.0)\n",
            "Requirement already satisfied: tomli>=1 in /usr/local/lib/python3.10/dist-packages (from pytest) (2.2.1)\n"
          ]
        }
      ]
    },
    {
      "cell_type": "code",
      "source": [
        "import unittest\n",
        "import pandas as pd\n",
        "\n",
        "class TestAggregation(unittest.TestCase):\n",
        "\n",
        "    def setUp(self):\n",
        "        \"\"\"Set up a basic DataFrame for testing.\"\"\"\n",
        "        # Sample data to simulate your cleaned DataFrame\n",
        "        self.df = pd.DataFrame({\n",
        "            'registration_state': ['NY', 'CA', 'NY', 'TX', 'CA'],\n",
        "            'vehicle_make': ['Toyota', 'Honda', 'Toyota', 'Ford', 'Honda'],\n",
        "            'violation_code': [101, 102, 101, 103, 102]\n",
        "        })\n",
        "\n",
        "    def test_aggregation_by_registration_state(self):\n",
        "        \"\"\"Test if aggregation by registration state works correctly.\"\"\"\n",
        "        agg_by_state = self.df.groupby('registration_state').size().reset_index(name='Count')\n",
        "        self.assertEqual(agg_by_state.shape[0], 3)  # Expect 3 unique registration states\n",
        "        self.assertTrue('registration_state' in agg_by_state.columns)  # Check if column exists\n",
        "        self.assertTrue('Count' in agg_by_state.columns)  # Check if count column exists\n",
        "\n",
        "    def test_aggregation_by_vehicle_make(self):\n",
        "        \"\"\"Test if aggregation by vehicle make works correctly.\"\"\"\n",
        "        agg_by_make = self.df.groupby('vehicle_make').size().reset_index(name='Count')\n",
        "        self.assertEqual(agg_by_make.shape[0], 3)  # Expect 3 unique vehicle makes\n",
        "        self.assertTrue('vehicle_make' in agg_by_make.columns)  # Check if column exists\n",
        "        self.assertTrue('Count' in agg_by_make.columns)  # Check if count column exists\n",
        "\n",
        "    def test_aggregation_by_violation_code(self):\n",
        "        \"\"\"Test if aggregation by violation code works correctly.\"\"\"\n",
        "        agg_by_violation = self.df.groupby('violation_code').size().reset_index(name='Count')\n",
        "        self.assertEqual(agg_by_violation.shape[0], 3)  # Expect 3 unique violation codes\n",
        "        self.assertTrue('violation_code' in agg_by_violation.columns)  # Check if column exists\n",
        "        self.assertTrue('Count' in agg_by_violation.columns)  # Check if count column exists\n",
        "\n",
        "if __name__ == '__main__':\n",
        "    unittest.main(argv=[''], exit=False)\n"
      ],
      "metadata": {
        "colab": {
          "base_uri": "https://localhost:8080/"
        },
        "id": "WgUsZhB-LQai",
        "outputId": "068b6f96-367a-4459-d1b3-64472ffa57b9"
      },
      "execution_count": null,
      "outputs": [
        {
          "output_type": "stream",
          "name": "stderr",
          "text": [
            "...\n",
            "----------------------------------------------------------------------\n",
            "Ran 3 tests in 0.026s\n",
            "\n",
            "OK\n"
          ]
        }
      ]
    },
    {
      "cell_type": "code",
      "source": [
        "!pytest\n"
      ],
      "metadata": {
        "colab": {
          "base_uri": "https://localhost:8080/"
        },
        "id": "HsjQNLB_LVOe",
        "outputId": "5d8333ba-bf3c-4229-9037-a2dd55b54519"
      },
      "execution_count": null,
      "outputs": [
        {
          "output_type": "stream",
          "name": "stdout",
          "text": [
            "\u001b[1m======================================= test session starts ========================================\u001b[0m\n",
            "platform linux -- Python 3.10.12, pytest-8.3.4, pluggy-1.5.0\n",
            "rootdir: /content\n",
            "plugins: typeguard-4.4.1, anyio-3.7.1\n",
            "\u001b[1mcollecting ... \u001b[0m\u001b[1m\rcollected 0 items                                                                                  \u001b[0m\n",
            "\n",
            "\u001b[33m====================================== \u001b[33mno tests ran\u001b[0m\u001b[33m in 0.01s\u001b[0m\u001b[33m =======================================\u001b[0m\n"
          ]
        }
      ]
    },
    {
      "cell_type": "code",
      "source": [
        "import unittest\n",
        "import matplotlib.pyplot as plt\n",
        "from io import BytesIO\n",
        "import pandas as pd\n",
        "\n",
        "class TestVisualizations(unittest.TestCase):\n",
        "\n",
        "    def setUp(self):\n",
        "        \"\"\"Setup data for visualizations.\"\"\"\n",
        "        self.agg_by_state = pd.DataFrame({\n",
        "            'registration_state': ['NY', 'CA', 'TX'],\n",
        "            'count': [100, 200, 150]\n",
        "        })\n",
        "\n",
        "        self.agg_by_make = pd.DataFrame({\n",
        "            'vehicle_make': ['Toyota', 'Honda', 'Ford'],\n",
        "            'count': [300, 250, 200]\n",
        "        })\n",
        "\n",
        "        self.agg_by_violation = pd.DataFrame({\n",
        "            'violation_code': [101, 102, 103],\n",
        "            'count': [400, 350, 300]\n",
        "        })\n",
        "\n",
        "    def test_plot_registration_state(self):\n",
        "        \"\"\"Test if the Registration State bar plot runs without errors.\"\"\"\n",
        "        try:\n",
        "            plt.figure(figsize=(10, 6))\n",
        "            plt.bar(self.agg_by_state['registration_state'], self.agg_by_state['count'], color='skyblue')\n",
        "            plt.xlabel('Registration State')\n",
        "            plt.ylabel('Count of Violations')\n",
        "            plt.title('Violations by Registration State')\n",
        "            plt.xticks(rotation=45)\n",
        "            plt.tight_layout()\n",
        "\n",
        "            # Create a BytesIO buffer to save the plot\n",
        "            buf = BytesIO()\n",
        "\n",
        "            # Render the plot and save it to buffer\n",
        "            plt.savefig(buf)  # Save to buffer\n",
        "            buf.seek(0)  # Move the pointer to the start of the buffer\n",
        "\n",
        "            # Debug: Check the size of the buffer before and after saving\n",
        "            print(f\"Buffer size before: {buf.tell()}\")\n",
        "\n",
        "            plt.show()  # Render the plot\n",
        "            plt.close()  # Close the plot after saving\n",
        "            print(f\"Buffer size after: {buf.tell()}\")  # Check if buffer has data\n",
        "\n",
        "            self.assertTrue(buf.tell() > 0)  # Check if the plot was saved\n",
        "        except Exception as e:\n",
        "            self.fail(f\"Plotting failed with error: {e}\")\n",
        "\n",
        "    def test_plot_vehicle_make(self):\n",
        "        \"\"\"Test if the Vehicle Make bar plot runs without errors.\"\"\"\n",
        "        try:\n",
        "            plt.figure(figsize=(10, 6))\n",
        "            plt.bar(self.agg_by_make['vehicle_make'], self.agg_by_make['count'], color='lightgreen')\n",
        "            plt.xlabel('Vehicle Make')\n",
        "            plt.ylabel('Count of Violations')\n",
        "            plt.title('Violations by Vehicle Make')\n",
        "            plt.xticks(rotation=45)\n",
        "            plt.tight_layout()\n",
        "\n",
        "            buf = BytesIO()\n",
        "            plt.savefig(buf)  # Save to buffer\n",
        "            buf.seek(0)\n",
        "            plt.show()  # Render the plot\n",
        "            plt.close()  # Close the plot after saving\n",
        "\n",
        "            # Check the buffer size\n",
        "            print(f\"Buffer size before: {buf.tell()}\")\n",
        "\n",
        "            self.assertTrue(buf.tell() > 0)  # Check if the plot was saved\n",
        "        except Exception as e:\n",
        "            self.fail(f\"Plotting failed with error: {e}\")\n",
        "\n",
        "    def test_plot_violation_code(self):\n",
        "        \"\"\"Test if the Violation Code pie chart runs without errors.\"\"\"\n",
        "        try:\n",
        "            plt.figure(figsize=(8, 8))\n",
        "            plt.pie(self.agg_by_violation['count'], labels=self.agg_by_violation['violation_code'], autopct='%1.1f%%', startangle=140)\n",
        "            plt.title('Violation Code Distribution')\n",
        "            plt.tight_layout()\n",
        "\n",
        "            buf = BytesIO()\n",
        "            plt.savefig(buf)  # Save to buffer\n",
        "            buf.seek(0)\n",
        "            plt.show()  # Render the plot\n",
        "            plt.close()  # Close the plot after saving\n",
        "\n",
        "            # Check the buffer size\n",
        "            print(f\"Buffer size before: {buf.tell()}\")\n",
        "\n",
        "            self.assertTrue(buf.tell() > 0)  # Check if the plot was saved\n",
        "        except Exception as e:\n",
        "            self.fail(f\"Plotting failed with error: {e}\")\n",
        "\n",
        "if __name__ == '__main__':\n",
        "    unittest.main(argv=[''], exit=False)\n"
      ],
      "metadata": {
        "colab": {
          "base_uri": "https://localhost:8080/",
          "height": 1000
        },
        "id": "9js3EZ3hL4aF",
        "outputId": "0047ea26-0931-4c91-a679-75e0c8fbcbe4"
      },
      "execution_count": null,
      "outputs": [
        {
          "output_type": "stream",
          "name": "stderr",
          "text": [
            "..."
          ]
        },
        {
          "output_type": "stream",
          "name": "stdout",
          "text": [
            "Buffer size before: 0\n"
          ]
        },
        {
          "output_type": "display_data",
          "data": {
            "text/plain": [
              "<Figure size 1000x600 with 1 Axes>"
            ],
            "image/png": "[encoded data removed]"
          },
          "metadata": {}
        },
        {
          "output_type": "stream",
          "name": "stderr",
          "text": [
            "F"
          ]
        },
        {
          "output_type": "stream",
          "name": "stdout",
          "text": [
            "Buffer size after: 0\n"
          ]
        },
        {
          "output_type": "display_data",
          "data": {
            "text/plain": [
              "<Figure size 1000x600 with 1 Axes>"
            ],
            "image/png": "[encoded data removed]"
          },
          "metadata": {}
        },
        {
          "output_type": "stream",
          "name": "stderr",
          "text": [
            "F"
          ]
        },
        {
          "output_type": "stream",
          "name": "stdout",
          "text": [
            "Buffer size before: 0\n"
          ]
        },
        {
          "output_type": "display_data",
          "data": {
            "text/plain": [
              "<Figure size 800x800 with 1 Axes>"
            ],
            "image/png": "[encoded data removed]"
          },
          "metadata": {}
        },
        {
          "output_type": "stream",
          "name": "stderr",
          "text": [
            "F\n",
            "======================================================================\n",
            "FAIL: test_plot_registration_state (__main__.TestVisualizations)\n",
            "Test if the Registration State bar plot runs without errors.\n",
            "----------------------------------------------------------------------\n",
            "Traceback (most recent call last):\n",
            "  File \"<ipython-input-51-b2519745af1b>\", line 50, in test_plot_registration_state\n",
            "    self.assertTrue(buf.tell() > 0)  # Check if the plot was saved\n",
            "AssertionError: False is not true\n",
            "\n",
            "During handling of the above exception, another exception occurred:\n",
            "\n",
            "Traceback (most recent call last):\n",
            "  File \"<ipython-input-51-b2519745af1b>\", line 52, in test_plot_registration_state\n",
            "    self.fail(f\"Plotting failed with error: {e}\")\n",
            "AssertionError: Plotting failed with error: False is not true\n",
            "\n",
            "======================================================================\n",
            "FAIL: test_plot_vehicle_make (__main__.TestVisualizations)\n",
            "Test if the Vehicle Make bar plot runs without errors.\n",
            "----------------------------------------------------------------------\n",
            "Traceback (most recent call last):\n",
            "  File \"<ipython-input-51-b2519745af1b>\", line 74, in test_plot_vehicle_make\n",
            "    self.assertTrue(buf.tell() > 0)  # Check if the plot was saved\n",
            "AssertionError: False is not true\n",
            "\n",
            "During handling of the above exception, another exception occurred:\n",
            "\n",
            "Traceback (most recent call last):\n",
            "  File \"<ipython-input-51-b2519745af1b>\", line 76, in test_plot_vehicle_make\n",
            "    self.fail(f\"Plotting failed with error: {e}\")\n",
            "AssertionError: Plotting failed with error: False is not true\n",
            "\n",
            "======================================================================\n",
            "FAIL: test_plot_violation_code (__main__.TestVisualizations)\n",
            "Test if the Violation Code pie chart runs without errors.\n",
            "----------------------------------------------------------------------\n",
            "Traceback (most recent call last):\n",
            "  File \"<ipython-input-51-b2519745af1b>\", line 95, in test_plot_violation_code\n",
            "    self.assertTrue(buf.tell() > 0)  # Check if the plot was saved\n",
            "AssertionError: False is not true\n",
            "\n",
            "During handling of the above exception, another exception occurred:\n",
            "\n",
            "Traceback (most recent call last):\n",
            "  File \"<ipython-input-51-b2519745af1b>\", line 97, in test_plot_violation_code\n",
            "    self.fail(f\"Plotting failed with error: {e}\")\n",
            "AssertionError: Plotting failed with error: False is not true\n",
            "\n",
            "----------------------------------------------------------------------\n",
            "Ran 6 tests in 2.215s\n",
            "\n",
            "FAILED (failures=3)\n"
          ]
        },
        {
          "output_type": "stream",
          "name": "stdout",
          "text": [
            "Buffer size before: 0\n"
          ]
        }
      ]
    }
  ]
}